{
 "cells": [
  {
   "cell_type": "markdown",
   "metadata": {},
   "source": [
    "# Computer Vision - Laboratory"
   ]
  },
  {
   "cell_type": "markdown",
   "metadata": {},
   "source": [
    "## Practicum 1: Basics on Image Processing and Manipulation\n",
    "\n",
    "The main topics are:\n",
    "1. Image loading, saving and creation\n",
    "2. Color manipulation \n",
    "\n",
    "In order to complete this practicum, we will work with the following concepts: image creation, data types, image manipulation."
   ]
  },
  {
   "cell_type": "markdown",
   "metadata": {},
   "source": [
    "### Packages loading \n",
    "\n",
    "First we need to import the required Python packages for basic image manipulation. \n",
    "\n",
    "Run the following code:"
   ]
  },
  {
   "cell_type": "code",
   "execution_count": 1,
   "metadata": {},
   "outputs": [],
   "source": [
    "import numpy as np # useful for manipulating matrices\n",
    "from skimage import io # useful for image loading and saving\n",
    "from matplotlib import pyplot as plt # useful for plotting images on iPython or Jupyter Notebooks"
   ]
  },
  {
   "cell_type": "markdown",
   "metadata": {},
   "source": [
    "Note that commands starting with the percentage sign (`%`) are special internal commands to ipython (as opposed to Python code to be run). In the case below, we set the matplotlib environment to display images results inline (i.e. the images will be shown **inside the \n",
    "notebook**):"
   ]
  },
  {
   "cell_type": "code",
   "execution_count": null,
   "metadata": {},
   "outputs": [],
   "source": [
    "%matplotlib inline"
   ]
  },
  {
   "cell_type": "markdown",
   "metadata": {},
   "source": [
    "### 1.1 Image creation"
   ]
  },
  {
   "cell_type": "markdown",
   "metadata": {},
   "source": [
    "Remember that [Numpy](https://docs.scipy.org/doc/numpy-1.13.0/reference/) allows us to define images of different kinds treating them as matrices.\n",
    "\n",
    "The most common examples are:\n",
    "\n",
    "* Binary: with values of 0 or 1, interpreted as black or white, respectively.\n",
    "* Grayscale: with possible data types uint8, uint16, double, whose pixel values define their intensity.\n",
    "* RGB Image: color images consisting of 3 matrices (usually called 'channels'), which contain intensity values for each color separately R (red), G (green) and B (blue).\n"
   ]
  },
  {
   "cell_type": "markdown",
   "metadata": {},
   "source": [
    "a) Create and display a grayscale image that has 150 rows and 200 columns where each value should be of type unsigned integer with 8 bits. "
   ]
  },
  {
   "cell_type": "code",
   "execution_count": null,
   "metadata": {},
   "outputs": [],
   "source": [
    "# We create a matrix with 150 rows and 200 columns\n",
    "image = np.zeros((150,200), dtype=np.uint8)\n",
    "\n",
    "# Personalizing the grayscale image\n",
    "image[25:,] = 25\n",
    "image[50:,] = 50\n",
    "image[75:,] = 100\n",
    "image[100:,] = 150\n",
    "image[125:,] = 200\n",
    "\n",
    "# Display image\n",
    "plt.imshow(image, cmap='gray')\n",
    "plt.show()"
   ]
  },
  {
   "cell_type": "markdown",
   "metadata": {},
   "source": [
    "How many values can each pixel have in this case? "
   ]
  },
  {
   "cell_type": "markdown",
   "metadata": {},
   "source": [
    "##### Answer: Each pixel can have 256 values, from 0 (black) to 255 (white)."
   ]
  },
  {
   "cell_type": "markdown",
   "metadata": {},
   "source": [
    "b) Change the color of the pixels of the image in such a way that the left half is black (0) and the right half is white (255). \n",
    "\n",
    "Visualize the image and print the values of its first row."
   ]
  },
  {
   "cell_type": "code",
   "execution_count": null,
   "metadata": {},
   "outputs": [],
   "source": [
    "# We create a matrix with 150 rows and 200 columns\n",
    "image = np.zeros((150,200), dtype=np.uint8)\n",
    "\n",
    "# We divide the number of columns in half\n",
    "n = int(image.shape[1]/2)\n",
    "\n",
    "# Paint to white the right half\n",
    "image[:,n:] = 255\n",
    "\n",
    "# Display image\n",
    "plt.imshow(image, cmap='gray')\n",
    "plt.show()"
   ]
  },
  {
   "cell_type": "markdown",
   "metadata": {},
   "source": [
    "### 1.2 Image saving and loading\n",
    "\n",
    "a) Use the IO image package to save the image previously created:"
   ]
  },
  {
   "cell_type": "code",
   "execution_count": null,
   "metadata": {},
   "outputs": [],
   "source": [
    "# We save the 'image' we created before intro the dir we have below\n",
    "io.imsave('images/black_and_white_image.bmp', image)"
   ]
  },
  {
   "cell_type": "markdown",
   "metadata": {},
   "source": [
    "b) Load the saved image and visualize it:"
   ]
  },
  {
   "cell_type": "code",
   "execution_count": null,
   "metadata": {},
   "outputs": [],
   "source": [
    "# We load the image we saved before from the same dir\n",
    "img = io.imread('images/black_and_white_image.bmp')\n",
    "\n",
    "# Display image\n",
    "plt.imshow(img, cmap='gray')\n",
    "plt.show()"
   ]
  },
  {
   "cell_type": "markdown",
   "metadata": {},
   "source": [
    "### 1.3 Color image manipulation\n",
    "\n",
    "a) Load and show the image `lenna.jpg`, and check its dimensions.\n",
    "\n",
    "**Note:** Pictures may appear in the figure with pseudocolors. Use (imread,im,cmap='rgb') to display them in RGB color and (imread,im,cmap='gray') to display them in grayscale. For more information, check the color maps available in the documentation."
   ]
  },
  {
   "cell_type": "code",
   "execution_count": null,
   "metadata": {},
   "outputs": [],
   "source": [
    "# First of all, we load the image lenna.jpg\n",
    "lenna_img = io.imread('images/images/lenna.jpg')\n",
    "\n",
    "# Display image\n",
    "plt.imshow(lenna_img)\n",
    "plt.show()\n",
    "\n",
    "# Print dimentions\n",
    "print(\"Dimentions: \", lenna_img.shape[1], \"x\", lenna_img.shape[0])"
   ]
  },
  {
   "cell_type": "markdown",
   "metadata": {
    "collapsed": true
   },
   "source": [
    "b) Convert the previous image to grayscale, visualize and save it. Moreover, show both images (RGB & greyscale) details such as shape, dtype, max and min values."
   ]
  },
  {
   "cell_type": "code",
   "execution_count": null,
   "metadata": {},
   "outputs": [],
   "source": [
    "# We get the number of rows and columns of the original image\n",
    "n_rows = int(lenna_img.shape[0])\n",
    "n_cols = int(lenna_img.shape[1])\n",
    "\n",
    "# Create a new matrix with the number of rows and columns we got\n",
    "lenna_img_bw = np.zeros((n_rows,n_cols), dtype=np.uint8)\n",
    "\n",
    "# We get the mean of the 3 values rgb for each pixel; and put the value in the black and white matrix we created\n",
    "# since the grayscale image has a value from 0 to 255 in each pixel instead of the rgb channels\n",
    "for i in range(n_rows):\n",
    "    for j in range(n_cols):\n",
    "        sum_channels_value = 0\n",
    "        for k in range(3): #3 channels: r,g,b\n",
    "            v = lenna_img[i][j][k]\n",
    "            sum_channels_value += v\n",
    "        \n",
    "        value = int(sum_channels_value/3) #Since I am using as dtype=uint8 I need a integer value not a float\n",
    "        lenna_img_bw[i][j] = value\n",
    "\n",
    "# Display original image\n",
    "plt.imshow(lenna_img)\n",
    "plt.show()\n",
    "\n",
    "# Display black and white image\n",
    "plt.imshow(lenna_img_bw, cmap='gray')\n",
    "plt.show()\n",
    "\n",
    "# Save black and white image\n",
    "io.imsave('images/lenna_black_and_white.jpg', lenna_img_bw)\n",
    "\n",
    "# Print details of the original image\n",
    "print(\"--------- Details RGB ---------\\n\")\n",
    "print(\"Shape: \" + str(lenna_img.shape))\n",
    "print(\"Dtype: \" + str(lenna_img.dtype))\n",
    "print(\"Max: \" + str(lenna_img.max()))\n",
    "print(\"Min: \" + str(lenna_img.min()))\n",
    "\n",
    "# Print details of the black and white image\n",
    "print(\"--------- Details greyscale ---------\\n\")\n",
    "print(\"Shape: \" + str(lenna_img_bw.shape))\n",
    "print(\"Dtype: \" + str(lenna_img_bw.dtype))\n",
    "print(\"Max: \" + str(lenna_img_bw.max()))\n",
    "print(\"Min: \" + str(lenna_img_bw.min()))"
   ]
  },
  {
   "cell_type": "markdown",
   "metadata": {},
   "source": [
    "c) Convert the lena image into a boolean image, by applying a binarization to the grayscale image. This should be done by setting to 0 all values equal or below 100 and to 1 otherwise. Check the range of the values of the image, and print the 10th row."
   ]
  },
  {
   "cell_type": "code",
   "execution_count": null,
   "metadata": {},
   "outputs": [],
   "source": [
    "# We get the rows and columns of the black and white image we created before\n",
    "n_rows = int(lenna_img_bw.shape[0])\n",
    "n_cols = int(lenna_img_bw.shape[1])\n",
    "\n",
    "# We create a new matrix\n",
    "lenna_img_bin = np.zeros((n_rows, n_cols), dtype=np.uint8)\n",
    "\n",
    "# We set the value to 0 if the pixel in the grayscale image is equal or below to 100, and 1 otherwise\n",
    "for i in range(n_rows):\n",
    "    for j in range(n_cols):\n",
    "        if lenna_img_bw[i][j] <= 100:\n",
    "            lenna_img_bin[i][j] = 0\n",
    "        else:\n",
    "            lenna_img_bin[i][j] = 1\n",
    "\n",
    "# Print the 10th row\n",
    "print(lenna_img_bin[9])"
   ]
  },
  {
   "cell_type": "markdown",
   "metadata": {},
   "source": [
    "d) Visualize in the same figure three images: (1) the original image, (2) the graylevel image, and (3) the binarized image. Set the corresponding titles of the images."
   ]
  },
  {
   "cell_type": "code",
   "execution_count": null,
   "metadata": {},
   "outputs": [],
   "source": [
    "# Display the original image\n",
    "plt.axis('off')\n",
    "plt.title(\"Original image\")\n",
    "plt.imshow(lenna_img)\n",
    "plt.show()\n",
    "\n",
    "# Display the grayscale image\n",
    "plt.axis('off')\n",
    "plt.title(\"Grayscale image\")\n",
    "plt.imshow(lenna_img_bw, cmap='gray')\n",
    "plt.show()\n",
    "\n",
    "# Display the binarized image\n",
    "plt.axis('off')\n",
    "plt.title(\"Binarized image\")\n",
    "plt.imshow(lenna_img_bin, cmap='gray')\n",
    "plt.show()"
   ]
  },
  {
   "cell_type": "markdown",
   "metadata": {},
   "source": [
    "### 1.4 Images manipulation\n",
    "\n",
    "a) Add a black frame to Lenna's image. It should have a width of 1/10th of the height of the original image. We recommend to create a bigger black image to later embed the original image in the central part."
   ]
  },
  {
   "cell_type": "code",
   "execution_count": null,
   "metadata": {},
   "outputs": [],
   "source": [
    "# First we get the value of 'width'\n",
    "width = int(0.1 * lenna_img.shape[0])\n",
    "\n",
    "# We create a new matrix with the rows and columns of the original image and add an extra margin to each one\n",
    "framed_img = np.zeros((int(lenna_img.shape[0]) + 2 * width, int(lenna_img.shape[1]) + 2 * width,\n",
    "                       lenna_img.shape[2]), dtype=np.uint8)\n",
    "\n",
    "# We get the number of rows and columns which contains the original image\n",
    "n_rows = framed_img.shape[0] - width\n",
    "n_cols = framed_img.shape[1] - width\n",
    "\n",
    "# Since for now we have a full black image, we add the original image into the framed_img, considering the width\n",
    "# as the margin\n",
    "for i in range(width, n_rows):\n",
    "    for j in range(width, n_cols):\n",
    "        framed_img[i][j] = lenna_img[i - width][j - width]\n",
    "\n",
    "# Display the framed image\n",
    "plt.imshow(framed_img)\n",
    "plt.show()"
   ]
  },
  {
   "cell_type": "markdown",
   "metadata": {
    "collapsed": true
   },
   "source": [
    "b) Change the mask of the framed image to red. Visualize the three images with their respective titles."
   ]
  },
  {
   "cell_type": "code",
   "execution_count": null,
   "metadata": {},
   "outputs": [],
   "source": [
    "# Copying the framed image in order not to modify the one we created before\n",
    "red_framed_img = framed_img.copy()\n",
    "\n",
    "# We get the number of rows and columns of the framed image\n",
    "n_rows = int(red_framed_img.shape[0])\n",
    "n_cols = int(red_framed_img.shape[1])\n",
    "\n",
    "# We add the red filter only to the image without changing the colour of the margins\n",
    "red_framed_img[width:n_rows-width,width:n_cols-width,0] = 255\n",
    "\n",
    "# Display original image\n",
    "plt.axis('off')\n",
    "plt.title(\"Original image\")\n",
    "plt.imshow(lenna_img)\n",
    "plt.show()\n",
    "\n",
    "# Display framed image\n",
    "plt.axis('off')\n",
    "plt.title(\"Black framed Lenna's image\")\n",
    "plt.imshow(framed_img)\n",
    "plt.show()\n",
    "\n",
    "# Display the framed image with a red filter\n",
    "plt.axis('off')\n",
    "plt.title(\"Framed image to red\")\n",
    "plt.imshow(red_framed_img)\n",
    "plt.show()"
   ]
  },
  {
   "cell_type": "markdown",
   "metadata": {},
   "source": [
    "### 1.5 Contrast enhancement\n",
    "\n",
    "a) Open the image `car_lowContrast.jpg` and visualize it without graylevel enhancement. To this purpose, check which are the minimal and maximal values and how to use the command imshow without contrast enhancement.\n",
    "\n",
    "Note: When running the function `imshow()` the image is authomatically enhanced. Use the `vmin` and `vmax` parameters in order to deactivate the enhancement applied by default."
   ]
  },
  {
   "cell_type": "code",
   "execution_count": null,
   "metadata": {},
   "outputs": [],
   "source": [
    "# Load car_lowContrast.jpg \n",
    "car_img = io.imread('images/images/car_lowContrast.jpg')\n",
    "\n",
    "# Print min and max values of the authomatic enhanced\n",
    "print(\"Minimal value: \" + str(car_img.min()))\n",
    "print(\"Maximal value: \" + str(car_img.max()))\n",
    "\n",
    "# Display image with automathic enhanced\n",
    "plt.title(\"Authomatic enhanced\")\n",
    "plt.imshow(car_img, cmap=\"gray\")\n",
    "plt.show()\n",
    "\n",
    "# Display image with enhancement deactivated\n",
    "plt.title(\"Enhancement deactivated\")\n",
    "plt.imshow(car_img, cmap=\"gray\", vmin=0, vmax=255)\n",
    "plt.show()"
   ]
  },
  {
   "cell_type": "markdown",
   "metadata": {
    "collapsed": true
   },
   "source": [
    "b) Create an image called `dark_image` using the  values from the original one, so that the minimal value of the new image is 0. Check the minimal and maximal values of the new image, and compare them with the previous one."
   ]
  },
  {
   "cell_type": "code",
   "execution_count": null,
   "metadata": {},
   "outputs": [],
   "source": [
    "# Get min value of the original image\n",
    "min_value = car_img.min()\n",
    "\n",
    "# Copy the image to not make unnecessary changes to the original image\n",
    "dark_image = car_img.copy()\n",
    "\n",
    "# Sub all the values in order to make the minimal value of the new image equal to 0\n",
    "dark_image -= min_value\n",
    "\n",
    "# Print new min and max values\n",
    "print(\"Minimal value: \" + str(dark_image.min()))\n",
    "print(\"Maximal value: \" + str(dark_image.max()))\n",
    "\n",
    "# Display image\n",
    "plt.imshow(dark_image, cmap=\"gray\", vmin=0, vmax=255)\n",
    "plt.show()"
   ]
  },
  {
   "cell_type": "markdown",
   "metadata": {},
   "source": [
    "c) Create a new image called `bright_im` from the original one, so that the maximal value of the new image is 255. Check the minimal and maximal values of the new image, and compare them with the previous one."
   ]
  },
  {
   "cell_type": "code",
   "execution_count": null,
   "metadata": {},
   "outputs": [],
   "source": [
    "# Get the max_value to add later in the new image\n",
    "max_value = 255 - car_img.max()\n",
    "\n",
    "# Copy the original image\n",
    "bright_im = car_img.copy()\n",
    "\n",
    "# Add to all values the max_value we got before\n",
    "bright_im += max_value\n",
    "\n",
    "# Print new min and max values\n",
    "print(\"Minimal value: \" + str(bright_im.min()))\n",
    "print(\"Maximal value: \" + str(bright_im.max()))\n",
    "\n",
    "# Display images\n",
    "plt.imshow(bright_im, cmap=\"gray\", vmin=0, vmax=255)\n",
    "plt.show()"
   ]
  },
  {
   "cell_type": "markdown",
   "metadata": {},
   "source": [
    "d) Apply contrast enhancement to the original image. There are two ways for it: (1) by direct manipulation, and (2) through scikit-image command. Check the minimal and maximal values of the enhanced image, and compare them with the previous one. \n",
    "\n",
    "Implement the contrast enhancement using the two different available methods."
   ]
  },
  {
   "cell_type": "code",
   "execution_count": null,
   "metadata": {},
   "outputs": [],
   "source": [
    "\"\"\" Method (1) by direct manipulation \"\"\"\n",
    "\n",
    "# Copy the original image\n",
    "car_contrasted = car_img.copy()\n",
    "\n",
    "# Get min and max values\n",
    "min_value = car_img.min()\n",
    "max_value = car_img.max()\n",
    "\n",
    "# Applying contrast enhancement by direct manipulation\n",
    "car_contrasted = (car_contrasted - min_value) / (max_value - min_value) * 255\n",
    "\n",
    "# Print new min and max values\n",
    "print(\"Minimal value: \" + str(car_contrasted.min()))\n",
    "print(\"Maximal value: \" + str(car_contrasted.max()))\n",
    "\n",
    "# Display image\n",
    "plt.imshow(car_contrasted, cmap='gray')\n",
    "plt.show()"
   ]
  },
  {
   "cell_type": "code",
   "execution_count": null,
   "metadata": {},
   "outputs": [],
   "source": [
    "from skimage import exposure\n",
    "\n",
    "\"\"\" Method (2) through scikit-image command \"\"\"\n",
    "\n",
    "# Copy image\n",
    "car_contrasted_2 = car_img.copy()\n",
    "\n",
    "# Applying the function we obtain the rescaled image with contrast enhancement\n",
    "car_contrasted_2 = exposure.rescale_intensity(car_contrasted_2, in_range=(63,193)) \n",
    "\n",
    "# Print new min and max values\n",
    "print(\"Minimal value: \" + str(car_contrasted_2.min()))\n",
    "print(\"Maximal value: \" + str(car_contrasted_2.max()))\n",
    "\n",
    "# Display image\n",
    "plt.imshow(car_contrasted_2, cmap='gray')\n",
    "plt.show()"
   ]
  },
  {
   "cell_type": "markdown",
   "metadata": {},
   "source": [
    "e) Visualize the 5 images in the same figure, each one with its corresponding title."
   ]
  },
  {
   "cell_type": "code",
   "execution_count": null,
   "metadata": {},
   "outputs": [],
   "source": [
    "# Display original image\n",
    "plt.axis('off')\n",
    "plt.title(\"Original image\")\n",
    "plt.imshow(car_img, cmap=\"gray\")\n",
    "plt.show()\n",
    "\n",
    "# Display dark image\n",
    "plt.axis('off')\n",
    "plt.title(\"Dark image\")\n",
    "plt.imshow(dark_image, cmap=\"gray\", vmin=0, vmax=255)\n",
    "plt.show()\n",
    "\n",
    "# Display bright image\n",
    "plt.axis('off')\n",
    "plt.title(\"Bright image\")\n",
    "plt.imshow(bright_im, cmap=\"gray\", vmin=0, vmax=255)\n",
    "plt.show()\n",
    "\n",
    "# Display car contrasted manually\n",
    "plt.axis('off')\n",
    "plt.title(\"Car contrasted manually\")\n",
    "plt.imshow(car_contrasted, cmap=\"gray\")\n",
    "plt.show()\n",
    "\n",
    "# Display car contrasted through command\n",
    "plt.axis('off')\n",
    "plt.title(\"Car contrasted by command\")\n",
    "plt.imshow(car_contrasted_2, cmap=\"gray\")\n",
    "plt.show()"
   ]
  },
  {
   "cell_type": "markdown",
   "metadata": {},
   "source": [
    "### 1.6 Masks and logical image manipulation\n",
    "\n",
    "Read the image `circles.bmp` (see figure top) and define 3 images in such a way that each one contains only 1 ball (see figure bottom). Visualize the 3 images in the same figure, each one with its corresponding title.\n",
    "\n",
    "<img src=\"images_notebook/images_notebook/ex16.png\">\n",
    "\n",
    "**Note:** Be careful when applying `imshow` since it automatically increases the contrast of the image (putting minimum values to 0 and maximal to 1).\n",
    "\n",
    "**Note:** Be careful when applying type conversion. Check the ranges of the image values."
   ]
  },
  {
   "cell_type": "code",
   "execution_count": null,
   "metadata": {},
   "outputs": [],
   "source": [
    "# Load circles image\n",
    "circles_img = io.imread('images/images/circles.bmp')\n",
    "\n",
    "# Create a new white image with the same shape\n",
    "white_img = np.ones(shape = circles_img.shape, dtype = np.uint8) * 255 #We create an auxiliar fully white image \n",
    "\n",
    "# Get the min and max values\n",
    "max_value = circles_img.max()\n",
    "min_value = circles_img.min()\n",
    "\n",
    "# Create a mask with all 3 circles\n",
    "mask = circles_img < circles_img.max()\n",
    "\n",
    "# Mask for every circle in the image\n",
    "first_circle = circles_img == min_value\n",
    "middle_circle = (circles_img > min_value) * (circles_img < circles_img[mask].max())\n",
    "last_circle = circles_img == circles_img[mask].max()\n",
    "\n",
    "# Using the previous masks we generate the new images, but first we copy the white image since we do not want to\n",
    "# see the other circles\n",
    "first_circle_img = white_img.copy()\n",
    "second_circle_img = white_img.copy()\n",
    "last_circle_img = white_img.copy()\n",
    "\n",
    "first_circle_img[first_circle] = circles_img[first_circle]\n",
    "second_circle_img[middle_circle] = circles_img[middle_circle]\n",
    "last_circle_img[last_circle] = circles_img[last_circle]\n",
    "\n",
    "#original image\n",
    "plt.axis('off')\n",
    "plt.title(\"Original image\")\n",
    "plt.imshow(circles_img, vmin=0, vmax=255)\n",
    "plt.show()\n",
    "\n",
    "#direct manipulation image\n",
    "plt.axis('off')\n",
    "plt.title(\"Left circle\")\n",
    "plt.imshow(first_circle_img, vmin=0, vmax=255)\n",
    "plt.show()\n",
    "\n",
    "#command manipulation image\n",
    "ax_second = axs[1,0]\n",
    "plt.axis('off')\n",
    "plt.title('Middle circle')\n",
    "plt.imshow(second_circle_img, vmin=0, vmax=255)\n",
    "plt.show()\n",
    "\n",
    "#empty image\n",
    "ax_last = axs[1,1]\n",
    "plt.axis('off')\n",
    "plt.title('Right circle')\n",
    "plt.imshow(last_circle_img, vmin=0, vmax=255)\n",
    "plt.show()\n"
   ]
  },
  {
   "cell_type": "markdown",
   "metadata": {},
   "source": [
    "### 1.7 Color manipulation\n",
    "\n",
    "a) Create and visualize the three images shown in the following figure:\n",
    "<img src=\"images_notebook/images_notebook/ex17a.png\">"
   ]
  },
  {
   "cell_type": "code",
   "execution_count": null,
   "metadata": {},
   "outputs": [],
   "source": [
    "#Your solution\n",
    "lr_image = np.zeros((200,200), dtype=np.uint8)\n",
    "up_down_image = np.zeros((200,200), dtype=np.uint8)\n",
    "a_piece_image = np.zeros((200,200), dtype=np.uint8)\n",
    "\n",
    "n = int(lr_image.shape[1]/2)\n",
    "lr_image[:,n:] = 255\n",
    "plt.imshow(lr_image, cmap='gray')\n",
    "plt.show()\n",
    "\n",
    "n = int(up_down_image.shape[0]/2)\n",
    "up_down_image[n:,:] = 255\n",
    "plt.imshow(up_down_image, cmap='gray')\n",
    "plt.show()\n",
    "\n",
    "n = int(a_piece_image.shape[0]/2)\n",
    "a_piece_image[:n,:n] = 255\n",
    "plt.imshow(a_piece_image, cmap='gray')\n",
    "plt.show()"
   ]
  },
  {
   "cell_type": "markdown",
   "metadata": {},
   "source": [
    "b) Using these three images, construct the following color image:\n",
    "<img src='images_notebook/images_notebook/ex17b.png'>"
   ]
  },
  {
   "cell_type": "code",
   "execution_count": null,
   "metadata": {},
   "outputs": [],
   "source": [
    "#Your solution\n",
    "blue = [0,0,255]\n",
    "red = [255,0,0]\n",
    "green = [0,255,0]\n",
    "yellow = [255,255,0]\n",
    "\n",
    "colour_image = np.zeros((200,200,3), dtype=np.uint8)\n",
    "n = int(colour_image.shape[1]/2)\n",
    "colour_image[:n,:n] = blue\n",
    "colour_image[:n,n:] = red\n",
    "colour_image[n:,:n] = green\n",
    "colour_image[n:,n:] = yellow\n",
    "plt.imshow(colour_image, cmap='gray')\n",
    "plt.show()"
   ]
  },
  {
   "cell_type": "markdown",
   "metadata": {},
   "source": [
    "c) Read and visualize the image `sillas.jpg` (see figure top). Extract its three channels and visualize them in the same figure with their respective titles (see the figure bottom).\n",
    "<img src=\"images_notebook/images_notebook/ex17c.png\">\n",
    "\n",
    "<img src=\"images_notebook/images_notebook/ex17c2.png\">"
   ]
  },
  {
   "cell_type": "code",
   "execution_count": null,
   "metadata": {},
   "outputs": [],
   "source": [
    "#Your solution\n",
    "img = io.imread('images/images/sillas.jpg')\n",
    "n_rows = img.shape[0]\n",
    "n_cols = img.shape[1]\n",
    "\n",
    "red_channel = np.zeros((n_rows,n_cols), dtype=np.uint8)\n",
    "green_channel = np.zeros((n_rows,n_cols), dtype=np.uint8)\n",
    "blue_channel = np.zeros((n_rows,n_cols), dtype=np.uint8)\n",
    "\n",
    "for i in range(n_rows):\n",
    "    for j in range(n_cols):\n",
    "        red_channel[i][j] = img[i][j][0]\n",
    "        green_channel[i][j] = img[i][j][1]\n",
    "        blue_channel[i][j] = img[i][j][2]\n",
    "        \n",
    "plt.imshow(red_channel, cmap='gray')\n",
    "plt.show()\n",
    "plt.imshow(green_channel, cmap='gray')\n",
    "plt.show()\n",
    "plt.imshow(blue_channel, cmap='gray')\n",
    "plt.show()"
   ]
  },
  {
   "cell_type": "markdown",
   "metadata": {},
   "source": [
    "d) Construct and visualize a new image in which the red color of the chairs is changed to blue (see figure).\n",
    "<img src=\"images_notebook/images_notebook/ex17c3.png\">"
   ]
  },
  {
   "cell_type": "code",
   "execution_count": null,
   "metadata": {},
   "outputs": [],
   "source": [
    "#Your solution\n",
    "img = io.imread('images/images/sillas.jpg')\n",
    "n_rows = img.shape[0]\n",
    "n_cols = img.shape[1]\n",
    "\n",
    "blue_image = np.zeros((n_rows,n_cols,3), dtype=np.uint8)\n",
    "\n",
    "for i in range(n_rows):\n",
    "    for j in range(n_cols):\n",
    "        new_value_blue = img[i][j][0]\n",
    "        new_value_red = img[i][j][2]\n",
    "        img[i][j][2] = new_value_blue\n",
    "        img[i][j][0] = new_value_red\n",
    "        blue_image[i][j] = img[i][j]\n",
    "        \n",
    "plt.imshow(blue_image)\n",
    "plt.show()"
   ]
  },
  {
   "cell_type": "markdown",
   "metadata": {},
   "source": [
    "e) Given the images `coat.png` and `model.png` (first two images on the figure below), implement the necessary code to construct the image of the model with the coat (third image). Next find in internet an image with a texture and apply it to obtain an image of the jacket with the found texture (fourth image is only an example).\n",
    "\n",
    "<img src=\"images_notebook/images_notebook/ex17d.png\">\n",
    "\n",
    "**Note:** when applying resize, rotate, etc. keep track how the image type and values range change. When necessary, apply type conversion using img_as_float, img_as_uint, img_as_ubyte."
   ]
  },
  {
   "cell_type": "code",
   "execution_count": 7,
   "metadata": {},
   "outputs": [
    {
     "name": "stdout",
     "output_type": "stream",
     "text": [
      "--- model.png data ---\n",
      "Size: 4348080\n",
      "Shape: (1188, 915, 4)\n",
      "Data type: uint8\n",
      "Pixel 0: [226 226 226 255]\n",
      "\n",
      "--- coat.png data ---\n",
      "Size: 4348080\n",
      "Shape: (1188, 915, 4)\n",
      "Data type: uint8\n",
      "Pixel 0: [  0   0   0 255]\n",
      "\n",
      "--- my_texture.png data ---\n",
      "Size: 2816352\n",
      "Shape: (924, 1016, 3)\n",
      "Data type: uint8\n",
      "Pixel 0: [224 223 227]\n",
      "\n",
      "--- texture2.png data ---\n",
      "Size: 3261060\n",
      "Shape: (1188, 915, 3)\n",
      "Data type: uint8\n",
      "Pixel 0: [242  99  87]\n",
      "\n",
      "--- coat_model data ---\n",
      "Size: 4348080\n",
      "Shape: (1188, 915, 4)\n",
      "Data type: uint8\n",
      "Pixel 0: [226 226 226 255]\n",
      "\n",
      "--- red_texture_img_rgba data ---\n",
      "Size: 4348080\n",
      "Shape: (1188, 915, 4)\n",
      "Data type: uint8\n",
      "Pixel 0: [242  99  87 255]\n",
      "\n",
      "--- red_coat_model data ---\n",
      "Size: 4348080\n",
      "Shape: (1188, 915, 4)\n",
      "Data type: uint8\n",
      "Pixel 0: [226 226 226 255]\n"
     ]
    },
    {
     "data": {
      "text/plain": [
       "<matplotlib.image.AxesImage at 0x241a447d808>"
      ]
     },
     "execution_count": 7,
     "metadata": {},
     "output_type": "execute_result"
    },
    {
     "data": {
      "image/png": "[encoded data removed]",
      "text/plain": [
       "<Figure size 576x576 with 4 Axes>"
      ]
     },
     "metadata": {
      "needs_background": "light"
     },
     "output_type": "display_data"
    },
    {
     "data": {
      "image/png": "[encoded data removed]",
      "text/plain": [
       "<Figure size 576x576 with 2 Axes>"
      ]
     },
     "metadata": {
      "needs_background": "light"
     },
     "output_type": "display_data"
    }
   ],
   "source": [
    "#Your solution\n",
    "from skimage import img_as_uint\n",
    "from skimage.transform import rotate, resize\n",
    "model_img = io.imread('images/images/model.png')\n",
    "coat_img = io.imread('images/images/coat.png')\n",
    "red_texture_img = io.imread('images/images/texture2.png')\n",
    "my_texture_img = io.imread('images/images/my_texture.png')\n",
    "\n",
    "print('--- model.png data ---')\n",
    "print('Size:', model_img.size)\n",
    "print('Shape:', model_img.shape)\n",
    "print('Data type:', model_img.dtype)\n",
    "print('Pixel 0:', model_img[0, 0])\n",
    "\n",
    "print('\\n--- coat.png data ---')\n",
    "print('Size:', coat_img.size)\n",
    "print('Shape:', coat_img.shape)\n",
    "print('Data type:', coat_img.dtype)\n",
    "print('Pixel 0:', coat_img[0, 0])\n",
    "\n",
    "print('\\n--- my_texture.png data ---')\n",
    "print('Size:', my_texture_img.size)\n",
    "print('Shape:', my_texture_img.shape)\n",
    "print('Data type:', my_texture_img.dtype)\n",
    "print('Pixel 0:', my_texture_img[0, 0])\n",
    "\n",
    "print('\\n--- texture2.png data ---')\n",
    "print('Size:', red_texture_img.size)\n",
    "print('Shape:', red_texture_img.shape)\n",
    "print('Data type:', red_texture_img.dtype)\n",
    "print('Pixel 0:', red_texture_img[0, 0])\n",
    "\n",
    "coat_model = np.where(coat_img > 0, coat_img, model_img)\n",
    "print('\\n--- coat_model data ---')\n",
    "print('Size:', coat_model.size)\n",
    "print('Shape:', coat_model.shape)\n",
    "print('Data type:', coat_model.dtype)\n",
    "print('Pixel 0:', coat_model[0, 0])\n",
    "\n",
    "red_texture_img_rgba = np.zeros((red_texture_img.shape[0], red_texture_img.shape[1], 4), dtype='uint8')\n",
    "red_texture_img_rgba = red_texture_img_rgba + 255\n",
    "red_texture_img_rgba[:,:,:-1] = red_texture_img\n",
    "\n",
    "print('\\n--- red_texture_img_rgba data ---')\n",
    "print('Size:', red_texture_img_rgba.size)\n",
    "print('Shape:', red_texture_img_rgba.shape)\n",
    "print('Data type:', red_texture_img_rgba.dtype)\n",
    "print('Pixel 0:', red_texture_img_rgba[0, 0])\n",
    "\n",
    "red_coat_model = np.where(coat_img > 0, red_texture_img_rgba, model_img)\n",
    "print('\\n--- red_coat_model data ---')\n",
    "print('Size:', red_coat_model.size)\n",
    "print('Shape:', red_coat_model.shape)\n",
    "print('Data type:', red_coat_model.dtype)\n",
    "print('Pixel 0:', red_coat_model[0, 0])\n",
    "\n",
    "\n",
    "my_texture_img_resized = img_as_uint(resize(my_texture_img, (model_img.shape[0], model_img.shape[1]), anti_aliasing=True))\n",
    "my_texture_img_resized_rgba = np.zeros((my_texture_img_resized.shape[0], my_texture_img_resized.shape[1], 4), dtype='uint8')\n",
    "my_texture_img_resized_rgba = my_texture_img_resized_rgba + 255\n",
    "my_texture_img_resized_rgba[:,:,:-1] = my_texture_img_resized\n",
    "\n",
    "my_texture_coat_model = np.where(coat_img > 0, my_texture_img_resized_rgba, model_img)\n",
    "\n",
    "fig = plt.figure(figsize=(8,8))\n",
    "fig.add_subplot(2, 2, 1)\n",
    "plt.imshow(model_img)\n",
    "fig.add_subplot(2, 2, 2)\n",
    "plt.imshow(coat_img)\n",
    "fig.add_subplot(2, 2, 3)\n",
    "plt.imshow(coat_model)\n",
    "fig.add_subplot(2, 2, 4)\n",
    "plt.imshow(red_coat_model)\n",
    "fig = plt.figure(figsize=(8,8))\n",
    "fig.add_subplot(2, 2, 1)\n",
    "plt.imshow(my_texture_img_resized_rgba)\n",
    "fig.add_subplot(2, 2, 2)\n",
    "plt.imshow(my_texture_coat_model)"
   ]
  },
  {
   "cell_type": "markdown",
   "metadata": {},
   "source": [
    "## Delivery\n",
    "\n",
    "Compressed file **P1_Student1_Student2.zip** that includes:\n",
    "- The notebook P1_Student1_Student2.ipynb completed with the solutions to the exercises and their corresponding comments.\n",
    "- The images used that are not provided in P1.zip.\n",
    "\n",
    "**Deadline (Campus Virtual): October 13, 11:00 p.m.** "
   ]
  },
  {
   "cell_type": "code",
   "execution_count": null,
   "metadata": {},
   "outputs": [],
   "source": []
  }
 ],
 "metadata": {
  "kernelspec": {
   "display_name": "Python 3",
   "language": "python",
   "name": "python3"
  },
  "language_info": {
   "codemirror_mode": {
    "name": "ipython",
    "version": 3
   },
   "file_extension": ".py",
   "mimetype": "text/x-python",
   "name": "python",
   "nbconvert_exporter": "python",
   "pygments_lexer": "ipython3",
   "version": "3.7.4"
  }
 },
 "nbformat": 4,
 "nbformat_minor": 2
}
